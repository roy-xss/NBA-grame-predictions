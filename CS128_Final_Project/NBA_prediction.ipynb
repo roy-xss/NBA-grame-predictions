{
 "cells": [
  {
   "cell_type": "markdown",
   "id": "eff9f753-6bad-4983-8e0d-32298ab7cb66",
   "metadata": {},
   "source": [
    "Before heading into data analysis and machine learning, we need to collect process the data first. The source of data is from www.basketball-refernce.com"
   ]
  },
  {
   "cell_type": "markdown",
   "id": "743146da-adf2-4d52-9173-7766028acf71",
   "metadata": {},
   "source": [
    "1.1 Fetching raw HTML"
   ]
  },
  {
   "cell_type": "code",
   "execution_count": 2,
   "id": "f3fb5d8e-6ebd-4b54-9913-798ac45d457d",
   "metadata": {
    "vscode": {
     "languageId": "rust"
    }
   },
   "outputs": [],
   "source": [
    "// Adding depencies and importing reqwest:\n",
    ":dep reqwest = {version = \"0.11.16\", features = [\"blocking\"]}\n",
    "extern crate reqwest;\n",
    "use reqwest::blocking::Client;"
   ]
  },
  {
   "cell_type": "code",
   "execution_count": 3,
   "id": "2c974a09-c425-4f29-b47c-d80114b67574",
   "metadata": {
    "vscode": {
     "languageId": "rust"
    }
   },
   "outputs": [],
   "source": [
    "//Defining target url and send request:\n",
    "let url = \"https://www.basketball-reference.com/leagues/NBA_2022.html\";\n",
    "//the blocking feature ensures that the request is synchronous\n",
    "let response = reqwest::blocking::get(url).expect(\"Could not load url.\");\n",
    "let raw_html_string = response.text().unwrap();"
   ]
  },
  {
   "cell_type": "markdown",
   "id": "130e7653-098b-41bc-9009-adc902be6396",
   "metadata": {},
   "source": [
    "1.2 Parse the data through CSS selectors"
   ]
  },
  {
   "cell_type": "code",
   "execution_count": 4,
   "id": "0c23309f-8454-4f0e-965a-c89e056c6687",
   "metadata": {
    "vscode": {
     "languageId": "rust"
    }
   },
   "outputs": [],
   "source": [
    "// use scraper crate to parse and query HTML with CSS selectors\n",
    ":dep scraper = {version = \"0.16.0\"}\n",
    "extern crate scraper;\n",
    "use scraper::Selector;\n",
    "use scraper::Html;"
   ]
  },
  {
   "cell_type": "code",
   "execution_count": 5,
   "id": "fcaa2379-a133-4218-9aa7-491002670f7c",
   "metadata": {
    "vscode": {
     "languageId": "rust"
    }
   },
   "outputs": [],
   "source": [
    "let html_fragment = Html::parse_fragment(&raw_html_string);"
   ]
  },
  {
   "cell_type": "code",
   "execution_count": 6,
   "id": "751b3cba-612d-4ed2-8343-e94e01eda56c",
   "metadata": {
    "vscode": {
     "languageId": "rust"
    }
   },
   "outputs": [],
   "source": [
    "//define some selectors\n",
    "let table_selector_string = \"#advanced-team\";\n",
    "let table_selector = Selector::parse(table_selector_string).unwrap();\n",
    "let head_elements_selector = Selector::parse(\"thead>tr>th\").unwrap();\n",
    "let row_elements_selector = Selector::parse(\"tbody>tr\").unwrap();\n",
    "let row_element_data_selector = Selector::parse(\"td,th\").unwrap();"
   ]
  },
  {
   "cell_type": "code",
   "execution_count": 7,
   "id": "7cce735f-f7bd-43e8-be8b-c84a3c522b38",
   "metadata": {
    "vscode": {
     "languageId": "rust"
    }
   },
   "outputs": [
    {
     "data": {
      "text/plain": [
       "[\"Offense Four Factors,Offense Four Factors,Offense Four Factors,Offense Four Factors,Offense Four Factors,\", \"Defense Four Factors,\", \"Rk,\", \"Team,\", \"Age,\", \"W,\", \"L,\", \"PW,\", \"PL,\", \"MOV,\", \"SOS,\", \"SRS,\", \"ORtg,\", \"DRtg,\", \"NRtg,\", \"Pace,\", \"FTr,\", \"3PAr,\", \"TS%,\", \"eFG%,\", \"TOV%,\", \"ORB%,\", \"FT/FGA,\", \"eFG%,\", \"TOV%,\", \"DRB%,\", \"FT/FGA,\", \"Arena,\", \"Attend.,\", \"Attend./G,\"]"
      ]
     },
     "execution_count": 7,
     "metadata": {},
     "output_type": "execute_result"
    }
   ],
   "source": [
    "// pass the table_selector_string to html_fragment to get the reference of all the tables\n",
    "let all_tables = html_fragment.select(&table_selector);\n",
    "\n",
    "let mut head: Vec<String> = Vec::new();\n",
    "let mut rows: Vec<Vec<String>> = Vec::new();\n",
    "\n",
    "for table in all_tables {\n",
    "    let head_elements = table.select(&head_elements_selector);\n",
    "    let mut section_index = 0; // keep track of which section we're processing\n",
    "    for head_element in head_elements {\n",
    "        let mut element = head_element.text().collect::<Vec<_>>().join(\" \");\n",
    "        element = element.trim().replace(\"\\n\", \" \");\n",
    "        if element.is_empty() {\n",
    "            // found a section divider, update the section index\n",
    "            section_index += 1;\n",
    "        } else {\n",
    "            // add the header to the appropriate section in the head vector\n",
    "            let header = format!(\"{},\", element);\n",
    "            match section_index {\n",
    "                0 => head.push(header.repeat(4)), // Offense Four Factors\n",
    "                1 => head.push(header.repeat(5)), // Defense Four Factors\n",
    "                _ => head.push(header), // other sections\n",
    "            }\n",
    "        }\n",
    "    }\n",
    "    let row_elements = table.select(&row_elements_selector);\n",
    "    for row_element in row_elements {\n",
    "        let mut row: Vec<String> = Vec::new();\n",
    "        for td_element in row_element.select(&row_element_data_selector) {\n",
    "            let mut element = td_element.text().collect::<Vec<_>>().join(\" \");\n",
    "            element = element.trim().replace(\"\\n\", \" \");\n",
    "            row.push(element);\n",
    "        }\n",
    "        rows.push(row);\n",
    "    }\n",
    "}\n",
    "head"
   ]
  },
  {
   "cell_type": "markdown",
   "id": "57423f68-34c4-47b3-be54-bd6434dd85c1",
   "metadata": {},
   "source": [
    "zip the header and row values together "
   ]
  },
  {
   "cell_type": "code",
   "execution_count": 8,
   "id": "67df13fb-74fe-4249-aa45-8648b6bab04b",
   "metadata": {
    "vscode": {
     "languageId": "rust"
    }
   },
   "outputs": [],
   "source": [
    ":dep serde_json = {version = \"1.0\"}\n",
    "extern crate serde_json;"
   ]
  },
  {
   "cell_type": "code",
   "execution_count": 9,
   "id": "ad71cbee-5db3-4733-ad3f-d8693be1ef8d",
   "metadata": {
    "vscode": {
     "languageId": "rust"
    }
   },
   "outputs": [],
   "source": [
    ":dep serde = {version = \"1.0.160\", features = [\"derive\"]}\n",
    "extern crate serde;"
   ]
  },
  {
   "cell_type": "code",
   "execution_count": 10,
   "id": "9bea4aa6-cc95-43ec-a9d0-bfcd4305a3e1",
   "metadata": {
    "vscode": {
     "languageId": "rust"
    }
   },
   "outputs": [],
   "source": [
    ":dep indexmap = {version = \"1.9.1\", features = [\"serde\"]}\n",
    "extern crate indexmap;"
   ]
  },
  {
   "cell_type": "code",
   "execution_count": 11,
   "id": "159345f2-1bcd-4968-aada-4b4de1c29f2f",
   "metadata": {
    "vscode": {
     "languageId": "rust"
    }
   },
   "outputs": [
    {
     "name": "stderr",
     "output_type": "stream",
     "text": [
      "The type of the variable row_element_data_selector was redefined, so was lost.\n",
      "The type of the variable row_elements_selector was redefined, so was lost.\n",
      "The type of the variable html_fragment was redefined, so was lost.\n",
      "The type of the variable table_selector was redefined, so was lost.\n",
      "The type of the variable head_elements_selector was redefined, so was lost.\n"
     ]
    },
    {
     "data": {
      "text/plain": [
       "[{\"Offense Four Factors,Offense Four Factors,Offense Four Factors,Offense Four Factors,Offense Four Factors,\": \"1\", \"Defense Four Factors,\": \"Boston Celtics *\", \"Rk,\": \"26.1\", \"Team,\": \"51\", \"Age,\": \"31\", \"W,\": \"59\", \"L,\": \"23\", \"PW,\": \"7.28\", \"PL,\": \"-0.26\", \"MOV,\": \"7.02\", \"SOS,\": \"114.4\", \"SRS,\": \"106.9\", \"ORtg,\": \"+7.5\", \"DRtg,\": \"96.6\", \"NRtg,\": \".239\", \"Pace,\": \".425\", \"FTr,\": \".578\", \"TS%,\": \".542\", \"eFG%,\": \".502\", \"TOV%,\": \"12.5\", \"ORB%,\": \".195\", \"DRB%,\": \"77.3\", \"FT/FGA,\": \".183\", \"Attend.,\": \"TD Garden\", \"Attend./G,\": \"785,396\"}, {\"Offense Four Factors,Offense Four Factors,Offense Four Factors,Offense Four Factors,Offense Four Factors,\": \"2\", \"Defense Four Factors,\": \"Phoenix Suns *\", \"Rk,\": \"27.5\", \"Team,\": \"64\", \"Age,\": \"18\", \"W,\": \"59\", \"L,\": \"23\", \"PW,\": \"7.50\", \"PL,\": \"-0.56\", \"MOV,\": \"6.94\", \"SOS,\": \"114.8\", \"SRS,\": \"107.3\", \"ORtg,\": \"+7.5\", \"DRtg,\": \"99.8\", \"NRtg,\": \".221\", \"Pace,\": \".354\", \"FTr,\": \".581\", \"TS%,\": \".549\", \"eFG%,\": \".510\", \"TOV%,\": \"13.0\", \"ORB%,\": \".176\", \"DRB%,\": \"77.1\", \"FT/FGA,\": \".195\", \"Attend.,\": \"Phoenix Suns Arena\", \"Attend./G,\": \"663,171\"}, {\"Offense Four Factors,Offense Four Factors,Offense Four Factors,Offense Four Factors,Offense Four Factors,\": \"3\", \"Defense Four Factors,\": \"Utah Jazz *\", \"Rk,\": \"29.3\", \"Team,\": \"49\", \"Age,\": \"33\", \"W,\": \"56\", \"L,\": \"26\", \"PW,\": \"6.04\", \"PL,\": \"-0.37\", \"MOV,\": \"5.67\", \"SOS,\": \"116.7\", \"SRS,\": \"110.5\", \"ORtg,\": \"+6.2\", \"DRtg,\": \"97.1\", \"NRtg,\": \".271\", \"Pace,\": \".468\", \"FTr,\": \".589\", \"TS%,\": \".555\", \"eFG%,\": \".521\", \"TOV%,\": \"10.9\", \"ORB%,\": \".208\", \"DRB%,\": \"78.3\", \"FT/FGA,\": \".164\", \"Attend.,\": \"Vivint Smart Home Arena\", \"Attend./G,\": \"750,546\"}, {\"Offense Four Factors,Offense Four Factors,Offense Four Factors,Offense Four Factors,Offense Four Factors,\": \"4\", \"Defense Four Factors,\": \"Memphis Grizzlies *\", \"Rk,\": \"24.0\", \"Team,\": \"56\", \"Age,\": \"26\", \"W,\": \"55\", \"L,\": \"27\", \"PW,\": \"5.68\", \"PL,\": \"-0.32\", \"MOV,\": \"5.37\", \"SOS,\": \"114.6\", \"SRS,\": \"109.0\", \"ORtg,\": \"+5.6\", \"DRtg,\": \"100.3\", \"NRtg,\": \".245\", \"Pace,\": \".346\", \"FTr,\": \".553\", \"TS%,\": \".522\", \"eFG%,\": \".523\", \"TOV%,\": \"13.3\", \"ORB%,\": \".180\", \"DRB%,\": \"77.8\", \"FT/FGA,\": \".195\", \"Attend.,\": \"FedEx Forum\", \"Attend./G,\": \"646,785\"}, {\"Offense Four Factors,Offense Four Factors,Offense Four Factors,Offense Four Factors,Offense Four Factors,\": \"5\", \"Defense Four Factors,\": \"Golden State Warriors *\", \"Rk,\": \"27.6\", \"Team,\": \"53\", \"Age,\": \"29\", \"W,\": \"55\", \"L,\": \"27\", \"PW,\": \"5.54\", \"PL,\": \"-0.02\", \"MOV,\": \"5.52\", \"SOS,\": \"112.5\", \"SRS,\": \"106.9\", \"ORtg,\": \"+5.6\", \"DRtg,\": \"98.4\", \"NRtg,\": \".235\", \"Pace,\": \".456\", \"FTr,\": \".582\", \"TS%,\": \".552\", \"eFG%,\": \".509\", \"TOV%,\": \"13.0\", \"ORB%,\": \".181\", \"DRB%,\": \"78.7\", \"FT/FGA,\": \".201\", \"Attend.,\": \"Chase Center\", \"Attend./G,\": \"740,624\"}, {\"Offense Four Factors,Offense Four Factors,Offense Four Factors,Offense Four Factors,Offense Four Factors,\": \"6\", \"Defense Four Factors,\": \"Miami Heat *\", \"Rk,\": \"28.2\", \"Team,\": \"53\", \"Age,\": \"29\", \"W,\": \"53\", \"L,\": \"29\", \"PW,\": \"4.45\", \"PL,\": \"-0.22\", \"MOV,\": \"4.23\", \"SOS,\": \"113.7\", \"SRS,\": \"109.1\", \"ORtg,\": \"+4.6\", \"DRtg,\": \"95.9\", \"NRtg,\": \".252\", \"Pace,\": \".422\", \"FTr,\": \".584\", \"TS%,\": \".547\", \"eFG%,\": \".524\", \"TOV%,\": \"13.8\", \"ORB%,\": \".204\", \"DRB%,\": \"78.0\", \"FT/FGA,\": \".209\", \"Attend.,\": \"FTX Arena\", \"Attend./G,\": \"804,761\"}, {\"Offense Four Factors,Offense Four Factors,Offense Four Factors,Offense Four Factors,Offense Four Factors,\": \"7\", \"Defense Four Factors,\": \"Dallas Mavericks *\", \"Rk,\": \"26.7\", \"Team,\": \"52\", \"Age,\": \"30\", \"W,\": \"50\", \"L,\": \"32\", \"PW,\": \"3.30\", \"PL,\": \"-0.18\", \"MOV,\": \"3.12\", \"SOS,\": \"112.8\", \"SRS,\": \"109.4\", \"ORtg,\": \"+3.4\", \"DRtg,\": \"95.4\", \"NRtg,\": \".249\", \"Pace,\": \".439\", \"FTr,\": \".572\", \"TS%,\": \".538\", \"eFG%,\": \".521\", \"TOV%,\": \"12.2\", \"ORB%,\": \".192\", \"DRB%,\": \"78.0\", \"FT/FGA,\": \".185\", \"Attend.,\": \"American Airlines Center\", \"Attend./G,\": \"808,037\"}, {\"Offense Four Factors,Offense Four Factors,Offense Four Factors,Offense Four Factors,Offense Four Factors,\": \"8\", \"Defense Four Factors,\": \"Milwaukee Bucks *\", \"Rk,\": \"28.5\", \"Team,\": \"51\", \"Age,\": \"31\", \"W,\": \"49\", \"L,\": \"33\", \"PW,\": \"3.35\", \"PL,\": \"-0.14\", \"MOV,\": \"3.22\", \"SOS,\": \"115.1\", \"SRS,\": \"111.8\", \"ORtg,\": \"+3.3\", \"DRtg,\": \"99.9\", \"NRtg,\": \".257\", \"Pace,\": \".430\", \"FTr,\": \".580\", \"TS%,\": \".546\", \"eFG%,\": \".536\", \"TOV%,\": \"11.6\", \"ORB%,\": \".199\", \"DRB%,\": \"78.6\", \"FT/FGA,\": \".165\", \"Attend.,\": \"Fiserv Forum\", \"Attend./G,\": \"715,581\"}, {\"Offense Four Factors,Offense Four Factors,Offense Four Factors,Offense Four Factors,Offense Four Factors,\": \"9\", \"Defense Four Factors,\": \"Philadelphia 76ers *\", \"Rk,\": \"26.8\", \"Team,\": \"51\", \"Age,\": \"31\", \"W,\": \"48\", \"L,\": \"34\", \"PW,\": \"2.61\", \"PL,\": \"-0.04\", \"MOV,\": \"2.57\", \"SOS,\": \"113.5\", \"SRS,\": \"110.8\", \"ORtg,\": \"+2.7\", \"DRtg,\": \"96.2\", \"NRtg,\": \".282\", \"Pace,\": \".376\", \"FTr,\": \".578\", \"TS%,\": \".534\", \"eFG%,\": \".524\", \"TOV%,\": \"12.1\", \"ORB%,\": \".232\", \"DRB%,\": \"76.8\", \"FT/FGA,\": \".192\", \"Attend.,\": \"Wells Fargo Center\", \"Attend./G,\": \"846,867\"}, {\"Offense Four Factors,Offense Four Factors,Offense Four Factors,Offense Four Factors,Offense Four Factors,\": \"10\", \"Defense Four Factors,\": \"Minnesota Timberwolves *\", \"Rk,\": \"24.2\", \"Team,\": \"46\", \"Age,\": \"36\", \"W,\": \"48\", \"L,\": \"34\", \"PW,\": \"2.63\", \"PL,\": \"-0.10\", \"MOV,\": \"2.53\", \"SOS,\": \"114.3\", \"SRS,\": \"111.7\", \"ORtg,\": \"+2.6\", \"DRtg,\": \"100.9\", \"NRtg,\": \".254\", \"Pace,\": \".454\", \"FTr,\": \".573\", \"TS%,\": \".539\", \"eFG%,\": \".535\", \"TOV%,\": \"14.2\", \"ORB%,\": \".198\", \"DRB%,\": \"74.9\", \"FT/FGA,\": \".227\", \"Attend.,\": \"Target Center\", \"Attend./G,\": \"657,148\"}, {\"Offense Four Factors,Offense Four Factors,Offense Four Factors,Offense Four Factors,Offense Four Factors,\": \"11\", \"Defense Four Factors,\": \"Denver Nuggets *\", \"Rk,\": \"27.7\", \"Team,\": \"48\", \"Age,\": \"34\", \"W,\": \"47\", \"L,\": \"35\", \"PW,\": \"2.30\", \"PL,\": \"-0.15\", \"MOV,\": \"2.16\", \"SOS,\": \"114.5\", \"SRS,\": \"112.1\", \"ORtg,\": \"+2.4\", \"DRtg,\": \"97.8\", \"NRtg,\": \".244\", \"Pace,\": \".416\", \"FTr,\": \".590\", \"TS%,\": \".556\", \"eFG%,\": \".537\", \"TOV%,\": \"11.7\", \"ORB%,\": \".194\", \"DRB%,\": \"78.3\", \"FT/FGA,\": \".188\", \"Attend.,\": \"Ball Arena\", \"Attend./G,\": \"695,262\"}, {\"Offense Four Factors,Offense Four Factors,Offense Four Factors,Offense Four Factors,Offense Four Factors,\": \"12\", \"Defense Four Factors,\": \"Toronto Raptors *\", \"Rk,\": \"24.8\", \"Team,\": \"48\", \"Age,\": \"34\", \"W,\": \"47\", \"L,\": \"35\", \"PW,\": \"2.29\", \"PL,\": \"0.08\", \"MOV,\": \"2.38\", \"SOS,\": \"112.9\", \"SRS,\": \"110.5\", \"ORtg,\": \"+2.4\", \"DRtg,\": \"96.0\", \"NRtg,\": \".234\", \"Pace,\": \".375\", \"FTr,\": \".543\", \"TS%,\": \".510\", \"eFG%,\": \".535\", \"TOV%,\": \"14.4\", \"ORB%,\": \".177\", \"DRB%,\": \"75.6\", \"FT/FGA,\": \".199\", \"Attend.,\": \"Scotiabank Arena\", \"Attend./G,\": \"547,343\"}, {\"Offense Four Factors,Offense Four Factors,Offense Four Factors,Offense Four Factors,Offense Four Factors,\": \"13\", \"Defense Four Factors,\": \"Cleveland Cavaliers\", \"Rk,\": \"24.7\", \"Team,\": \"44\", \"Age,\": \"38\", \"W,\": \"47\", \"L,\": \"35\", \"PW,\": \"2.12\", \"PL,\": \"-0.08\", \"MOV,\": \"2.04\", \"SOS,\": \"111.9\", \"SRS,\": \"109.7\", \"ORtg,\": \"+2.2\", \"DRtg,\": \"96.1\", \"NRtg,\": \".261\", \"Pace,\": \".387\", \"FTr,\": \".571\", \"TS%,\": \".538\", \"eFG%,\": \".520\", \"TOV%,\": \"12.3\", \"ORB%,\": \".198\", \"DRB%,\": \"76.5\", \"FT/FGA,\": \".172\", \"Attend.,\": \"Rocket Mortgage Fieldhouse\", \"Attend./G,\": \"758,228\"}, {\"Offense Four Factors,Offense Four Factors,Offense Four Factors,Offense Four Factors,Offense Four Factors,\": \"14\", \"Defense Four Factors,\": \"Atlanta Hawks *\", \"Rk,\": \"26.1\", \"Team,\": \"43\", \"Age,\": \"39\", \"W,\": \"45\", \"L,\": \"37\", \"PW,\": \"1.56\", \"PL,\": \"-0.01\", \"MOV,\": \"1.55\", \"SOS,\": \"116.5\", \"SRS,\": \"114.9\", \"ORtg,\": \"+1.6\", \"DRtg,\": \"97.7\", \"NRtg,\": \".253\", \"Pace,\": \".390\", \"FTr,\": \".581\", \"TS%,\": \".543\", \"eFG%,\": \".543\", \"TOV%,\": \"11.5\", \"ORB%,\": \".205\", \"DRB%,\": \"76.9\", \"FT/FGA,\": \".177\", \"Attend.,\": \"State Farm Arena\", \"Attend./G,\": \"672,742\"}, {\"Offense Four Factors,Offense Four Factors,Offense Four Factors,Offense Four Factors,Offense Four Factors,\": \"15\", \"Defense Four Factors,\": \"Brooklyn Nets *\", \"Rk,\": \"29.1\", \"Team,\": \"44\", \"Age,\": \"38\", \"W,\": \"43\", \"L,\": \"39\", \"PW,\": \"0.78\", \"PL,\": \"0.04\", \"MOV,\": \"0.82\", \"SOS,\": \"113.6\", \"SRS,\": \"112.8\", \"ORtg,\": \"+0.8\", \"DRtg,\": \"99.0\", \"NRtg,\": \".246\", \"Pace,\": \".359\", \"FTr,\": \".576\", \"TS%,\": \".540\", \"eFG%,\": \".521\", \"TOV%,\": \"11.7\", \"ORB%,\": \".198\", \"DRB%,\": \"75.1\", \"FT/FGA,\": \".201\", \"Attend.,\": \"Barclays Center\", \"Attend./G,\": \"711,539\"}, {\"Offense Four Factors,Offense Four Factors,Offense Four Factors,Offense Four Factors,Offense Four Factors,\": \"16\", \"Defense Four Factors,\": \"Charlotte Hornets\", \"Rk,\": \"25.5\", \"Team,\": \"43\", \"Age,\": \"39\", \"W,\": \"42\", \"L,\": \"40\", \"PW,\": \"0.44\", \"PL,\": \"0.09\", \"MOV,\": \"0.53\", \"SOS,\": \"114.1\", \"SRS,\": \"113.7\", \"ORtg,\": \"+0.4\", \"DRtg,\": \"100.0\", \"NRtg,\": \".234\", \"Pace,\": \".418\", \"FTr,\": \".572\", \"TS%,\": \".544\", \"eFG%,\": \".544\", \"TOV%,\": \"13.1\", \"ORB%,\": \".173\", \"DRB%,\": \"74.8\", \"FT/FGA,\": \".187\", \"Attend.,\": \"Spectrum Center\", \"Attend./G,\": \"700,755\"}, {\"Offense Four Factors,Offense Four Factors,Offense Four Factors,Offense Four Factors,Offense Four Factors,\": \"17\", \"Defense Four Factors,\": \"San Antonio Spurs\", \"Rk,\": \"24.5\", \"Team,\": \"34\", \"Age,\": \"48\", \"W,\": \"41\", \"L,\": \"41\", \"PW,\": \"0.12\", \"PL,\": \"-0.10\", \"MOV,\": \"0.02\", \"SOS,\": \"112.4\", \"SRS,\": \"112.3\", \"ORtg,\": \"+0.1\", \"DRtg,\": \"100.0\", \"NRtg,\": \".220\", \"Pace,\": \".345\", \"FTr,\": \".556\", \"TS%,\": \".527\", \"eFG%,\": \".532\", \"TOV%,\": \"12.1\", \"ORB%,\": \".166\", \"DRB%,\": \"75.1\", \"FT/FGA,\": \".176\", \"Attend.,\": \"AT&T Center\", \"Attend./G,\": \"615,588\"}, {\"Offense Four Factors,Offense Four Factors,Offense Four Factors,Offense Four Factors,Offense Four Factors,\": \"18\", \"Defense Four Factors,\": \"Los Angeles Clippers\", \"Rk,\": \"27.5\", \"Team,\": \"42\", \"Age,\": \"40\", \"W,\": \"41\", \"L,\": \"41\", \"PW,\": \"0.02\", \"PL,\": \"0.06\", \"MOV,\": \"0.09\", \"SOS,\": \"110.1\", \"SRS,\": \"110.1\", \"ORtg,\": \"0.0\", \"DRtg,\": \"98.0\", \"NRtg,\": \".224\", \"Pace,\": \".391\", \"FTr,\": \".564\", \"TS%,\": \".531\", \"eFG%,\": \".514\", \"TOV%,\": \"12.0\", \"ORB%,\": \".178\", \"DRB%,\": \"74.4\", \"FT/FGA,\": \".167\", \"Attend.,\": \"Crypto.com Arena\", \"Attend./G,\": \"694,005\"}, {\"Offense Four Factors,Offense Four Factors,Offense Four Factors,Offense Four Factors,Offense Four Factors,\": \"19\", \"Defense Four Factors,\": \"New York Knicks\", \"Rk,\": \"26.0\", \"Team,\": \"37\", \"Age,\": \"45\", \"W,\": \"41\", \"L,\": \"41\", \"PW,\": \"-0.12\", \"PL,\": \"0.11\", \"MOV,\": \"-0.01\", \"SOS,\": \"110.4\", \"SRS,\": \"110.5\", \"ORtg,\": \"-0.1\", \"DRtg,\": \"95.9\", \"NRtg,\": \".280\", \"Pace,\": \".428\", \"FTr,\": \".550\", \"TS%,\": \".513\", \"eFG%,\": \".521\", \"TOV%,\": \"11.7\", \"ORB%,\": \".208\", \"DRB%,\": \"78.8\", \"FT/FGA,\": \".198\", \"Attend.,\": \"Madison Square Garden (IV)\", \"Attend./G,\": \"763,484\"}, {\"Offense Four Factors,Offense Four Factors,Offense Four Factors,Offense Four Factors,Offense Four Factors,\": \"20\", \"Defense Four Factors,\": \"Chicago Bulls *\", \"Rk,\": \"26.3\", \"Team,\": \"46\", \"Age,\": \"36\", \"W,\": \"40\", \"L,\": \"42\", \"PW,\": \"-0.39\", \"PL,\": \"0.02\", \"MOV,\": \"-0.38\", \"SOS,\": \"113.2\", \"SRS,\": \"113.6\", \"ORtg,\": \"-0.4\", \"DRtg,\": \"98.3\", \"NRtg,\": \".248\", \"Pace,\": \".332\", \"FTr,\": \".579\", \"TS%,\": \".541\", \"eFG%,\": \".541\", \"TOV%,\": \"11.9\", \"ORB%,\": \".201\", \"DRB%,\": \"78.3\", \"FT/FGA,\": \".199\", \"Attend.,\": \"United Center\", \"Attend./G,\": \"856,148\"}, {\"Offense Four Factors,Offense Four Factors,Offense Four Factors,Offense Four Factors,Offense Four Factors,\": \"21\", \"Defense Four Factors,\": \"New Orleans Pelicans *\", \"Rk,\": \"25.6\", \"Team,\": \"36\", \"Age,\": \"46\", \"W,\": \"38\", \"L,\": \"44\", \"PW,\": \"-0.99\", \"PL,\": \"0.15\", \"MOV,\": \"-0.84\", \"SOS,\": \"112.0\", \"SRS,\": \"113.0\", \"ORtg,\": \"-1.0\", \"DRtg,\": \"97.2\", \"NRtg,\": \".264\", \"Pace,\": \".365\", \"FTr,\": \".557\", \"TS%,\": \".517\", \"eFG%,\": \".547\", \"TOV%,\": \"13.0\", \"ORB%,\": \".208\", \"DRB%,\": \"78.2\", \"FT/FGA,\": \".196\", \"Attend.,\": \"Smoothie King Center\", \"Attend./G,\": \"635,941\"}, {\"Offense Four Factors,Offense Four Factors,Offense Four Factors,Offense Four Factors,Offense Four Factors,\": \"22\", \"Defense Four Factors,\": \"Los Angeles Lakers\", \"Rk,\": \"30.2\", \"Team,\": \"33\", \"Age,\": \"49\", \"W,\": \"33\", \"L,\": \"49\", \"PW,\": \"-3.05\", \"PL,\": \"-0.03\", \"MOV,\": \"-3.08\", \"SOS,\": \"110.3\", \"SRS,\": \"113.3\", \"ORtg,\": \"-3.0\", \"DRtg,\": \"100.1\", \"NRtg,\": \".259\", \"Pace,\": \".388\", \"FTr,\": \".567\", \"TS%,\": \".537\", \"eFG%,\": \".540\", \"TOV%,\": \"12.2\", \"ORB%,\": \".190\", \"DRB%,\": \"75.8\", \"FT/FGA,\": \".192\", \"Attend.,\": \"Crypto.com Arena\", \"Attend./G,\": \"764,631\"}, {\"Offense Four Factors,Offense Four Factors,Offense Four Factors,Offense Four Factors,Offense Four Factors,\": \"23\", \"Defense Four Factors,\": \"Washington Wizards\", \"Rk,\": \"25.9\", \"Team,\": \"35\", \"Age,\": \"47\", \"W,\": \"32\", \"L,\": \"50\", \"PW,\": \"-3.38\", \"PL,\": \"0.15\", \"MOV,\": \"-3.23\", \"SOS,\": \"111.1\", \"SRS,\": \"114.5\", \"ORtg,\": \"-3.4\", \"DRtg,\": \"97.0\", \"NRtg,\": \".252\", \"Pace,\": \".356\", \"FTr,\": \".568\", \"TS%,\": \".532\", \"eFG%,\": \".529\", \"TOV%,\": \"10.7\", \"ORB%,\": \".197\", \"DRB%,\": \"76.9\", \"FT/FGA,\": \".202\", \"Attend.,\": \"Capital One Arena\", \"Attend./G,\": \"637,215\"}, {\"Offense Four Factors,Offense Four Factors,Offense Four Factors,Offense Four Factors,Offense Four Factors,\": \"24\", \"Defense Four Factors,\": \"Indiana Pacers\", \"Rk,\": \"26.0\", \"Team,\": \"25\", \"Age,\": \"57\", \"W,\": \"32\", \"L,\": \"50\", \"PW,\": \"-3.48\", \"PL,\": \"0.22\", \"MOV,\": \"-3.26\", \"SOS,\": \"112.6\", \"SRS,\": \"116.1\", \"ORtg,\": \"-3.5\", \"DRtg,\": \"98.0\", \"NRtg,\": \".239\", \"Pace,\": \".395\", \"FTr,\": \".564\", \"TS%,\": \".531\", \"eFG%,\": \".552\", \"TOV%,\": \"11.9\", \"ORB%,\": \".184\", \"DRB%,\": \"76.2\", \"FT/FGA,\": \".204\", \"Attend.,\": \"Gainbridge Fieldhouse\", \"Attend./G,\": \"588,743\"}, {\"Offense Four Factors,Offense Four Factors,Offense Four Factors,Offense Four Factors,Offense Four Factors,\": \"25\", \"Defense Four Factors,\": \"Sacramento Kings\", \"Rk,\": \"25.8\", \"Team,\": \"30\", \"Age,\": \"52\", \"W,\": \"28\", \"L,\": \"54\", \"PW,\": \"-5.46\", \"PL,\": \"0.20\", \"MOV,\": \"-5.26\", \"SOS,\": \"109.9\", \"SRS,\": \"115.3\", \"ORtg,\": \"-5.4\", \"DRtg,\": \"99.8\", \"NRtg,\": \".264\", \"Pace,\": \".377\", \"FTr,\": \".561\", \"TS%,\": \".525\", \"eFG%,\": \".551\", \"TOV%,\": \"11.9\", \"ORB%,\": \".203\", \"DRB%,\": \"76.0\", \"FT/FGA,\": \".176\", \"Attend.,\": \"Golden 1 Center\", \"Attend./G,\": \"577,583\"}, {\"Offense Four Factors,Offense Four Factors,Offense Four Factors,Offense Four Factors,Offense Four Factors,\": \"26\", \"Defense Four Factors,\": \"Detroit Pistons\", \"Rk,\": \"23.6\", \"Team,\": \"23\", \"Age,\": \"59\", \"W,\": \"22\", \"L,\": \"60\", \"PW,\": \"-7.72\", \"PL,\": \"0.37\", \"MOV,\": \"-7.36\", \"SOS,\": \"106.0\", \"SRS,\": \"113.8\", \"ORtg,\": \"-7.8\", \"DRtg,\": \"98.4\", \"NRtg,\": \".249\", \"Pace,\": \".391\", \"FTr,\": \".533\", \"TS%,\": \".494\", \"eFG%,\": \".541\", \"TOV%,\": \"13.1\", \"ORB%,\": \".194\", \"DRB%,\": \"75.6\", \"FT/FGA,\": \".226\", \"Attend.,\": \"Little Caesars Arena\", \"Attend./G,\": \"663,556\"}, {\"Offense Four Factors,Offense Four Factors,Offense Four Factors,Offense Four Factors,Offense Four Factors,\": \"27\", \"Defense Four Factors,\": \"Orlando Magic\", \"Rk,\": \"23.3\", \"Team,\": \"22\", \"Age,\": \"60\", \"W,\": \"21\", \"L,\": \"61\", \"PW,\": \"-8.00\", \"PL,\": \"0.33\", \"MOV,\": \"-7.67\", \"SOS,\": \"104.5\", \"SRS,\": \"112.5\", \"ORtg,\": \"-8.0\", \"DRtg,\": \"99.2\", \"NRtg,\": \".223\", \"Pace,\": \".417\", \"FTr,\": \".538\", \"TS%,\": \".503\", \"eFG%,\": \".532\", \"TOV%,\": \"11.7\", \"ORB%,\": \".175\", \"DRB%,\": \"77.2\", \"FT/FGA,\": \".196\", \"Attend.,\": \"Amway Center\", \"Attend./G,\": \"622,881\"}, {\"Offense Four Factors,Offense Four Factors,Offense Four Factors,Offense Four Factors,Offense Four Factors,\": \"28\", \"Defense Four Factors,\": \"Oklahoma City Thunder\", \"Rk,\": \"22.4\", \"Team,\": \"24\", \"Age,\": \"58\", \"W,\": \"21\", \"L,\": \"61\", \"PW,\": \"-8.10\", \"PL,\": \"0.20\", \"MOV,\": \"-7.90\", \"SOS,\": \"104.6\", \"SRS,\": \"112.8\", \"ORtg,\": \"-8.2\", \"DRtg,\": \"98.5\", \"NRtg,\": \".223\", \"Pace,\": \".419\", \"FTr,\": \".530\", \"TS%,\": \".497\", \"eFG%,\": \".533\", \"TOV%,\": \"11.8\", \"ORB%,\": \".169\", \"DRB%,\": \"76.1\", \"FT/FGA,\": \".169\", \"Attend.,\": \"Paycom Center\", \"Attend./G,\": \"595,112\"}, {\"Offense Four Factors,Offense Four Factors,Offense Four Factors,Offense Four Factors,Offense Four Factors,\": \"29\", \"Defense Four Factors,\": \"Houston Rockets\", \"Rk,\": \"24.1\", \"Team,\": \"20\", \"Age,\": \"62\", \"W,\": \"21\", \"L,\": \"61\", \"PW,\": \"-8.48\", \"PL,\": \"0.22\", \"MOV,\": \"-8.26\", \"SOS,\": \"108.4\", \"SRS,\": \"116.7\", \"ORtg,\": \"-8.3\", \"DRtg,\": \"100.9\", \"NRtg,\": \".284\", \"Pace,\": \".448\", \"FTr,\": \".565\", \"TS%,\": \".534\", \"eFG%,\": \".554\", \"TOV%,\": \"12.3\", \"ORB%,\": \".202\", \"DRB%,\": \"74.4\", \"FT/FGA,\": \".206\", \"Attend.,\": \"Toyota Center\", \"Attend./G,\": \"638,977\"}, {\"Offense Four Factors,Offense Four Factors,Offense Four Factors,Offense Four Factors,Offense Four Factors,\": \"30\", \"Defense Four Factors,\": \"Portland Trail Blazers\", \"Rk,\": \"25.6\", \"Team,\": \"27\", \"Age,\": \"55\", \"W,\": \"20\", \"L,\": \"62\", \"PW,\": \"-8.88\", \"PL,\": \"0.33\", \"MOV,\": \"-8.55\", \"SOS,\": \"107.8\", \"SRS,\": \"116.9\", \"ORtg,\": \"-9.1\", \"DRtg,\": \"98.3\", \"NRtg,\": \".248\", \"Pace,\": \".422\", \"FTr,\": \".550\", \"TS%,\": \".515\", \"eFG%,\": \".559\", \"TOV%,\": \"12.7\", \"ORB%,\": \".188\", \"DRB%,\": \"76.9\", \"FT/FGA,\": \".222\", \"Attend.,\": \"Moda Center\", \"Attend./G,\": \"705,608\"}]"
      ]
     },
     "execution_count": 11,
     "metadata": {},
     "output_type": "execute_result"
    }
   ],
   "source": [
    "use indexmap::IndexMap;\n",
    "let mut table_data: Vec<IndexMap<String, String>> = Vec::new();\n",
    "for row in rows {\n",
    "    let zipped_array = head.iter().zip(row.iter()).map(|(a,b)| (a, b)).collect::<Vec<_>>();\n",
    "    let mut item_hash: IndexMap<String, String> = IndexMap::new();\n",
    "    for pair in zipped_array {\n",
    "        if !pair.1.to_string().is_empty() {\n",
    "            item_hash.insert(pair.0.to_string(), pair.1.to_string());\n",
    "        }\n",
    "    }\n",
    "    table_data.push(item_hash);\n",
    "}\n",
    "table_data"
   ]
  },
  {
   "cell_type": "code",
   "execution_count": null,
   "id": "05cd9180-9982-40df-9fa5-690b1eee78ae",
   "metadata": {
    "vscode": {
     "languageId": "rust"
    }
   },
   "outputs": [],
   "source": []
  },
  {
   "cell_type": "markdown",
   "id": "9de1a52a-d3ab-4bdb-b7fd-55d851576217",
   "metadata": {},
   "source": [
    "1.3 Serializing the data"
   ]
  },
  {
   "cell_type": "code",
   "execution_count": 44,
   "id": "9cac3252-8768-4a0b-a2d0-26b493285366",
   "metadata": {
    "tags": [],
    "vscode": {
     "languageId": "rust"
    }
   },
   "outputs": [],
   "source": [
    ":dep polars = {version = \"0.28.0\"}\n",
    "extern crate polars;"
   ]
  },
  {
   "cell_type": "code",
   "execution_count": 45,
   "id": "a7eba48e-342f-457d-9fae-56ed3b82bcdf",
   "metadata": {
    "vscode": {
     "languageId": "rust"
    }
   },
   "outputs": [],
   "source": [
    ":dep csv = {version = \"1.2.1\"}\n",
    "extern crate csv;"
   ]
  },
  {
   "cell_type": "code",
   "execution_count": 46,
   "id": "76a13567-854f-4b0c-961b-6fafd4ffe138",
   "metadata": {
    "vscode": {
     "languageId": "rust"
    }
   },
   "outputs": [],
   "source": [
    ":dep json-event-parser = {version = \"0.1.1\"}\n",
    "extern crate json_event_parser;"
   ]
  },
  {
   "cell_type": "code",
   "execution_count": 47,
   "id": "2e54041a-832a-41c2-9458-fdf0a2f31906",
   "metadata": {},
   "outputs": [],
   "source": [
    ":dep selectors = \"0.24.0\"\n",
    "extern crate selectors;"
   ]
  },
  {
   "cell_type": "code",
   "execution_count": 48,
   "id": "41cedb7e-ccdd-408c-8451-9129968fc03b",
   "metadata": {
    "vscode": {
     "languageId": "rust"
    }
   },
   "outputs": [],
   "source": [
    "use std::collections::HashMap;\n",
    "use std::collections::BTreeMap;\n",
    "use scraper::Element;\n",
    "use scraper::{Html, Selector};\n",
    "\n",
    "fn scrape_table_data(html_fragment: &Html, table_selector_string: &str, head_elements_selector: &Selector, row_elements_selector: &Selector, row_element_data_selector: &Selector) -> Vec<BTreeMap<String, String>> {\n",
    "    let table_selector = Selector::parse(table_selector_string).unwrap();\n",
    "    let all_tables = html_fragment.select(&table_selector);\n",
    "    \n",
    "    let mut head: Vec<String> = Vec::new();\n",
    "    let mut rows: Vec<Vec<String>> = Vec::new();\n",
    "    // parse the header element using css selectors\n",
    "    for (_table_index, table) in all_tables.enumerate() {\n",
    "        let head_elements = table.select(&head_elements_selector);\n",
    "        for head_element in head_elements {\n",
    "            let element = head_element.value(); // Get the underlying Element\n",
    "            // Skip the header row\n",
    "            if element.attr(\"class\").unwrap_or(\"\") == \"over_header\" {\n",
    "                continue;\n",
    "            }\n",
    "            let mut element = head_element.text().collect::<Vec<_>>().join(\" \");\n",
    "            element = element.trim().replace(\"\\n\", \" \");\n",
    "            head.push(element);\n",
    "        }\n",
    "        let row_elements = table.select(&row_elements_selector); // skip the first row\n",
    "        for row_element in row_elements {\n",
    "            let mut row: Vec<String> = Vec::new();\n",
    "            for td_element in row_element.select(&row_element_data_selector) {\n",
    "                let mut element = td_element.text().collect::<Vec<_>>().join(\" \");\n",
    "                element = element.trim().replace(\"\\n\", \" \");\n",
    "                row.push(element);\n",
    "            }\n",
    "            rows.push(row);\n",
    "        }\n",
    "    }\n",
    "    // use the BTreeMap to ensure the sequence of scraping data is correct\n",
    "    let mut table_data: Vec<BTreeMap<String, String>> = Vec::new();\n",
    "    for row in rows {\n",
    "        let zipped_array = head.iter().zip(row.iter()).map(|(a,b)| (a, b)).collect::<Vec<_>>();\n",
    "        let mut item_hash: BTreeMap<String, String> = BTreeMap::new();\n",
    "        for pair in zipped_array {\n",
    "            if !pair.1.to_string().is_empty() {\n",
    "                item_hash.insert(pair.0.to_string(), pair.1.to_string());\n",
    "            }\n",
    "        }\n",
    "        table_data.push(item_hash);\n",
    "    }\n",
    "\n",
    "    table_data\n",
    "}\n"
   ]
  },
  {
   "cell_type": "code",
   "execution_count": 57,
   "id": "df576e4e-bc6b-4edf-86ec-eaf5cf23344e",
   "metadata": {
    "vscode": {
     "languageId": "rust"
    }
   },
   "outputs": [
    {
     "ename": "Error",
     "evalue": "linking with `link.exe` failed: exit code: 1201",
     "output_type": "error",
     "traceback": [
      "\u001b[91mlinking with `link.exe` failed: exit code: 1201\u001b[0m"
     ]
    }
   ],
   "source": [
    "//serialize the table_data into a csv file\n",
    "use polars::prelude::*;\n",
    "use std::fs::File;\n",
    "use serde::Serialize;\n",
    "use indexmap::IndexMap;\n",
    "use csv::{Writer, WriterBuilder};\n",
    "use std::error::Error;\n",
    "use std::collections::HashMap;\n",
    "use std::collections::BTreeMap;\n",
    "use std::io::Write;\n",
    "//use select::document::Document;\n",
    "//use select::predicate::{Predicate, Attr, Name};\n",
    "use json_event_parser::JsonReader\n",
    "\n",
    "let mut tables_data: Vec<(String, Vec<BTreeMap<String, String>>)> = Vec::new();\n",
    "\n",
    "for year in 2012..=2013 {\n",
    "    let url = format!(\"https://www.basketball-reference.com/leagues/NBA_{}.html\", year);\n",
    "    let response = reqwest::blocking::get(&url).expect(\"Could not load url.\");\n",
    "    let raw_html_string = response.text().unwrap();\n",
    "    let html_fragment = Html::parse_fragment(&raw_html_string);\n",
    "    let table_selector_string = \"#advanced-team\";\n",
    "    let head_elements_selector = Selector::parse(\"thead>tr>th\").unwrap();\n",
    "    let row_elements_selector = Selector::parse(\"tbody>tr\").unwrap();\n",
    "    let row_element_data_selector = Selector::parse(\"td,th\").unwrap();\n",
    "    let table_data = scrape_table_data(&html_fragment, &table_selector_string, &head_elements_selector, &row_elements_selector, &row_element_data_selector);\n",
    "    tables_data.push((format!(\"{}\", year), table_data));\n",
    "}\n",
    "\n",
    "// Open a file to write the CSV output to\n",
    "let file = File::create(\"output.csv\")?;\n",
    "\n",
    "// Create a CSV writer using the default configuration\n",
    "let mut csv_writer = WriterBuilder::new().from_writer(file);\n",
    "\n",
    "// Write the header row\n",
    "let headers = tables_data[0].1[0].keys().cloned().collect::<Vec<_>>();\n",
    "csv_writer.write_record(&headers)?;\n",
    "\n",
    "// Write each row of data\n",
    "for (_table_name, rows) in tables_data.iter() {\n",
    "    for row in rows {\n",
    "        let values = headers.iter().map(|h| row.get(h).unwrap()).collect::<Vec<_>>();\n",
    "        csv_writer.write_record(&values)?;\n",
    "    }\n",
    "}\n",
    "\n",
    "// Flush the CSV writer to ensure all data is written to the file\n",
    "csv_writer.flush()?;\n",
    "\n",
    "\n",
    "/*\n",
    "let mut tables_data: IndexMap<String, Vec<HashMap<String, String>>> = IndexMap::new();\n",
    "for year in 2010..=2011 {\n",
    "    let url = format!(\"https://www.basketball-reference.com/leagues/NBA_{}.html\", year);\n",
    "    let response = reqwest::blocking::get(&url).expect(\"Could not load url.\");\n",
    "    let raw_html_string = response.text().unwrap();\n",
    "    let html_fragment = Html::parse_fragment(&raw_html_string);\n",
    "    let table_selector_string = \"#per_game-team\";\n",
    "    let head_elements_selector = Selector::parse(\"thead>tr>th\").unwrap();\n",
    "    let row_elements_selector = Selector::parse(\"tbody>tr\").unwrap();\n",
    "    let row_element_data_selector = Selector::parse(\"td,th\").unwrap();\n",
    "    let table_data = scrape_table_data(&html_fragment, &table_selector_string, &head_elements_selector, &row_elements_selector, &row_element_data_selector);\n",
    "    tables_data.insert(format!(\"{}\", year), table_data);\n",
    "}\n",
    "\n",
    "// Open a file to write the CSV output to\n",
    "let file = File::create(\"output.csv\")?;\n",
    "\n",
    "// Create a CSV writer using the default configuration\n",
    "let mut csv_writer = WriterBuilder::new().from_writer(file);\n",
    "\n",
    "// Write the header row\n",
    "let headers = tables_data.values().next().unwrap()[0].keys();\n",
    "csv_writer.write_record(headers)?;\n",
    "\n",
    "// Write each row of data\n",
    "for (table_name, rows) in tables_data.iter() {\n",
    "    for row in rows {\n",
    "        let values = row.values();\n",
    "        csv_writer.write_record(values)?;\n",
    "    }\n",
    "}\n",
    "\n",
    "//define a struct container for the tables_data\n",
    "#[derive(Serialize)]\n",
    "struct FinalTable {\n",
    "    tables: IndexMap<String, Vec<HashMap<String, String>>>,\n",
    "}\n",
    "let final_table = FinalTable{tables: tables_data};\n",
    "let json = serde_json::to_string_pretty(&final_table).unwrap();\n",
    "\n",
    "let path = \"scraped_raw_data.json\";\n",
    "let mut output = File::create(path).unwrap();\n",
    "let result: Result<(), std::io::Error> = output.write_all(json.as_bytes());\n",
    "\n",
    "match result {\n",
    "    Ok(()) => println!(\"hooray\"),\n",
    "    Err(e) => println!(\"uhhhh\"),\n",
    "}\n",
    "println!(\"{json:#}\");\n",
    "*/\n",
    "\n"
   ]
  },
  {
   "cell_type": "code",
   "execution_count": 58,
   "id": "72d84571-b6be-4c48-9c03-b5bed6c7645e",
   "metadata": {
    "vscode": {
     "languageId": "rust"
    }
   },
   "outputs": [
    {
     "ename": "Error",
     "evalue": "linking with `link.exe` failed: exit code: 1201",
     "output_type": "error",
     "traceback": [
      "\u001b[91mlinking with `link.exe` failed: exit code: 1201\u001b[0m"
     ]
    }
   ],
   "source": [
    "// helper function to turn the data in the csv file into dataframe\n",
    "fn read_csv(file_path: &str) -> PolarsResult<DataFrame> {\n",
    "    CsvReader::from_path(file_path)?.has_header(true).finish()\n",
    "}\n",
    "let df = read_csv(\"output.csv\");\n",
    "df"
   ]
  },
  {
   "cell_type": "markdown",
   "id": "a5f28941-ad3a-4753-a61c-5a61962d22ce",
   "metadata": {},
   "source": [
    "2.1 Data Cleaning"
   ]
  },
  {
   "cell_type": "code",
   "execution_count": 59,
   "id": "41ac1d40-ae57-42a4-a7d9-eb6b72e2d53d",
   "metadata": {},
   "outputs": [
    {
     "ename": "Error",
     "evalue": "Couldn't automatically determine type of variable `cleaned_df`.\nPlease give it an explicit type.",
     "output_type": "error",
     "traceback": [
      "Couldn't automatically determine type of variable `cleaned_df`.\nPlease give it an explicit type."
     ]
    }
   ],
   "source": [
    "let mut cleaned_df = df.select(&[\"Team\", \"W\", \"L\"]);\n",
    "\n",
    "// Write new CSV file with selected columns\n",
    "CsvWriter::new(\"cleaned_data.csv\").has_headers(true).finish(&df)?;"
   ]
  },
  {
   "cell_type": "markdown",
   "id": "9f3f5a45-dab9-410f-a514-7b53f7ff5730",
   "metadata": {
    "vscode": {
     "languageId": "rust"
    }
   },
   "source": [
    "3.1 Using Logistic Regression Model to predict the ELO ratings"
   ]
  },
  {
   "cell_type": "code",
   "execution_count": 60,
   "id": "b301b6f7-06ac-48cb-a71a-5f049ddae745",
   "metadata": {},
   "outputs": [
    {
     "ename": "Error",
     "evalue": "linking with `link.exe` failed: exit code: 1201",
     "output_type": "error",
     "traceback": [
      "\u001b[91mlinking with `link.exe` failed: exit code: 1201\u001b[0m"
     ]
    }
   ],
   "source": [
    ":dep smartcore = {version = \"0.2.0\", features = [\"nalgebra-bindings\", \"datasets\"]}\n",
    "extern crate smartcore;"
   ]
  },
  {
   "cell_type": "code",
   "execution_count": null,
   "id": "9af1a53f-91d6-45b4-b3bf-37f46a03faee",
   "metadata": {},
   "outputs": [],
   "source": [
    ":dep nalgebra = {version = \"0.23.0\", features = [\"serde-serialize\"]}\n",
    "extern crate nalgebra;"
   ]
  },
  {
   "cell_type": "code",
   "execution_count": null,
   "id": "ca590297-f55e-4fb9-bd88-ea0304f660f4",
   "metadata": {},
   "outputs": [],
   "source": [
    ":dep argmin = \"*\"\n",
    "extern crate argmin;"
   ]
  },
  {
   "cell_type": "markdown",
   "id": "7571890f-51ab-4e04-b28a-e4cd29278c4b",
   "metadata": {},
   "source": [
    "First Load the dataset and split it into tests and training sets. "
   ]
  },
  {
   "cell_type": "code",
   "execution_count": null,
   "id": "d8278d64-952b-472b-bd5b-bb8b1a277f97",
   "metadata": {},
   "outputs": [],
   "source": [
    "use std::fs::File;\n",
    "let file = File::open(\"cleaned_data.csv\").unwrap();\n",
    "let cerdit: DMatrix<f64> = parse_csv(BufReader::new(file)).unwrap();"
   ]
  },
  {
   "cell_type": "code",
   "execution_count": null,
   "id": "ee750a00-0f5b-44fb-a1f1-f6851f3f14c5",
   "metadata": {},
   "outputs": [],
   "source": [
    "//helper function to calculate the ELO ratrings\n",
    "use std::collections::HashMap;\n",
    "use csv::Reader;\n",
    "\n",
    "// ELO constants\n",
    "const K: f64 = 32.0;\n",
    "const BASE_ELO: f64 = 1500.0;\n",
    "\n",
    "// Struct to hold team data\n",
    "struct Team {\n",
    "    elo: f64,\n",
    "    wins: u32,\n",
    "    losses: u32,\n",
    "}\n",
    "\n",
    "// Function to read CSV file and calculate ELO ratings\n",
    "fn calculate_elo(file_path: &str) -> HashMap<String, f64> {\n",
    "    // Open CSV file and create CSV reader\n",
    "    let file = std::fs::File::open(file_path).unwrap();\n",
    "    let mut reader = Reader::from_reader(file);\n",
    "\n",
    "    // Create hash map to store team data\n",
    "    let mut teams: HashMap<String, Team> = HashMap::new();\n",
    "\n",
    "    // Initialize all teams with base ELO rating\n",
    "    for result in reader.records() {\n",
    "        let record = result.unwrap();\n",
    "        let team_name = record.get(0).unwrap().to_string();\n",
    "        let team = Team {\n",
    "            elo: BASE_ELO,\n",
    "            wins: record.get(1).unwrap().parse().unwrap(),\n",
    "            losses: record.get(2).unwrap().parse().unwrap(),\n",
    "        };\n",
    "        teams.insert(team_name, team);\n",
    "    }\n",
    "\n",
    "    // Calculate ELO ratings\n",
    "    for (team_name, team) in teams.iter_mut() {\n",
    "        for (opponent_name, opponent) in teams.iter() {\n",
    "            if team_name == opponent_name {\n",
    "                continue;\n",
    "            }\n",
    "            let expected_score = 1.0 / (1.0 + 10.0f64.powf((opponent.elo - team.elo) / 400.0));\n",
    "            let actual_score = team.wins as f64 / (team.wins + opponent.wins) as f64;\n",
    "            let elo_delta = K * (actual_score - expected_score);\n",
    "            team.elo += elo_delta;\n",
    "        }\n",
    "    }\n",
    "\n",
    "    // Create hash map of team names and ELO ratings\n",
    "    let mut elo_ratings: HashMap<String, f64> = HashMap::new();\n",
    "    for (team_name, team) in teams {\n",
    "        elo_ratings.insert(team_name, team.elo);\n",
    "    }\n",
    "\n",
    "    elo_ratings\n",
    "}"
   ]
  },
  {
   "cell_type": "code",
   "execution_count": null,
   "id": "89fdf6f4-1625-4d35-b5f4-8e3f2a86ab8a",
   "metadata": {},
   "outputs": [],
   "source": []
  },
  {
   "cell_type": "code",
   "execution_count": null,
   "id": "cba9b8d1-e141-4e45-a15b-b3e0b1628276",
   "metadata": {},
   "outputs": [],
   "source": []
  },
  {
   "cell_type": "code",
   "execution_count": null,
   "id": "9443974b-a373-4370-a2c5-e0a6b0b8992b",
   "metadata": {},
   "outputs": [],
   "source": []
  }
 ],
 "metadata": {
  "kernelspec": {
   "display_name": "Rust",
   "language": "rust",
   "name": "rust"
  },
  "language_info": {
   "codemirror_mode": "rust",
   "file_extension": ".rs",
   "mimetype": "text/rust",
   "name": "Rust",
   "pygment_lexer": "rust",
   "version": ""
  },
  "toc-autonumbering": true,
  "toc-showcode": true,
  "toc-showmarkdowntxt": false
 },
 "nbformat": 4,
 "nbformat_minor": 5
}
