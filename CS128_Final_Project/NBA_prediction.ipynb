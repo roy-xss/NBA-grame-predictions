{
 "cells": [
  {
   "cell_type": "markdown",
   "id": "eff9f753-6bad-4983-8e0d-32298ab7cb66",
   "metadata": {},
   "source": [
    "Before heading into data analysis and machine learning, we need to collect clean and process the data first. The source of data is the stats from NBA.com"
   ]
  },
  {
   "cell_type": "markdown",
   "id": "743146da-adf2-4d52-9173-7766028acf71",
   "metadata": {},
   "source": [
    "1.1 Fetching raw HTML"
   ]
  },
  {
   "cell_type": "code",
   "execution_count": null,
   "id": "f3fb5d8e-6ebd-4b54-9913-798ac45d457d",
   "metadata": {
    "vscode": {
     "languageId": "rust"
    }
   },
   "outputs": [],
   "source": [
    "// Adding depencies and importing reqwest:\n",
    ":dep reqwest = {version = \"0.11.16\", features = [\"blocking\"]}\n",
    "extern crate reqwest;\n",
    "use reqwest::blocking::Client;"
   ]
  },
  {
   "cell_type": "code",
   "execution_count": null,
   "id": "2c974a09-c425-4f29-b47c-d80114b67574",
   "metadata": {
    "vscode": {
     "languageId": "rust"
    }
   },
   "outputs": [],
   "source": [
    "//Defining target url and send request:\n",
    "let url = \"https://www.basketball-reference.com/leagues/NBA_2022.html\";\n",
    "//the blocking feature ensures that the request is synchronous\n",
    "let response = reqwest::blocking::get(url).expect(\"Could not load url.\");\n",
    "let raw_html_string = response.text().unwrap();"
   ]
  },
  {
   "cell_type": "markdown",
   "id": "130e7653-098b-41bc-9009-adc902be6396",
   "metadata": {},
   "source": [
    "1.2 Parse the data through CSS selectors"
   ]
  },
  {
   "cell_type": "code",
   "execution_count": null,
   "id": "0c23309f-8454-4f0e-965a-c89e056c6687",
   "metadata": {
    "vscode": {
     "languageId": "rust"
    }
   },
   "outputs": [],
   "source": [
    "// use scraper crate to parse and query HTML with CSS selectors\n",
    ":dep scraper = {version = \"0.16.0\"}\n",
    "extern crate scraper;\n",
    "use scraper::Selector;\n",
    "use scraper::Html;"
   ]
  },
  {
   "cell_type": "code",
   "execution_count": null,
   "id": "fcaa2379-a133-4218-9aa7-491002670f7c",
   "metadata": {
    "vscode": {
     "languageId": "rust"
    }
   },
   "outputs": [],
   "source": [
    "let html_fragment = Html::parse_fragment(&raw_html_string);"
   ]
  },
  {
   "cell_type": "code",
   "execution_count": null,
   "id": "751b3cba-612d-4ed2-8343-e94e01eda56c",
   "metadata": {
    "vscode": {
     "languageId": "rust"
    }
   },
   "outputs": [],
   "source": [
    "//define some selectors\n",
    "let table_selector_string = \"#advanced-team\";\n",
    "let table_selector = Selector::parse(table_selector_string).unwrap();\n",
    "let head_elements_selector = Selector::parse(\"thead>tr>th\").unwrap();\n",
    "let row_elements_selector = Selector::parse(\"tbody>tr\").unwrap();\n",
    "let row_element_data_selector = Selector::parse(\"td,th\").unwrap();"
   ]
  },
  {
   "cell_type": "code",
   "execution_count": null,
   "id": "7cce735f-f7bd-43e8-be8b-c84a3c522b38",
   "metadata": {
    "vscode": {
     "languageId": "rust"
    }
   },
   "outputs": [],
   "source": [
    "// pass the table_selector_string to html_fragment to get the reference of all the tables\n",
    "let all_tables = html_fragment.select(&table_selector);\n",
    "\n",
    "let mut head: Vec<String> = Vec::new();\n",
    "let mut rows: Vec<Vec<String>> = Vec::new();\n",
    "\n",
    "for table in all_tables {\n",
    "    let head_elements = table.select(&head_elements_selector);\n",
    "    let mut section_index = 0; // keep track of which section we're processing\n",
    "    for head_element in head_elements {\n",
    "        let mut element = head_element.text().collect::<Vec<_>>().join(\" \");\n",
    "        element = element.trim().replace(\"\\n\", \" \");\n",
    "        if element.is_empty() {\n",
    "            // found a section divider, update the section index\n",
    "            section_index += 1;\n",
    "        } else {\n",
    "            // add the header to the appropriate section in the head vector\n",
    "            let header = format!(\"{},\", element);\n",
    "            match section_index {\n",
    "                0 => head.push(header.repeat(4)), // Offense Four Factors\n",
    "                1 => head.push(header.repeat(5)), // Defense Four Factors\n",
    "                _ => head.push(header), // other sections\n",
    "            }\n",
    "        }\n",
    "    }\n",
    "    let row_elements = table.select(&row_elements_selector);\n",
    "    for row_element in row_elements {\n",
    "        let mut row: Vec<String> = Vec::new();\n",
    "        for td_element in row_element.select(&row_element_data_selector) {\n",
    "            let mut element = td_element.text().collect::<Vec<_>>().join(\" \");\n",
    "            element = element.trim().replace(\"\\n\", \" \");\n",
    "            row.push(element);\n",
    "        }\n",
    "        rows.push(row);\n",
    "    }\n",
    "}\n",
    "head"
   ]
  },
  {
   "cell_type": "markdown",
   "id": "57423f68-34c4-47b3-be54-bd6434dd85c1",
   "metadata": {},
   "source": [
    "zip the header and row values together "
   ]
  },
  {
   "cell_type": "code",
   "execution_count": null,
   "id": "67df13fb-74fe-4249-aa45-8648b6bab04b",
   "metadata": {
    "vscode": {
     "languageId": "rust"
    }
   },
   "outputs": [],
   "source": [
    ":dep serde_json = {version = \"1.0\"}\n",
    "extern crate serde_json;"
   ]
  },
  {
   "cell_type": "code",
   "execution_count": null,
   "id": "ad71cbee-5db3-4733-ad3f-d8693be1ef8d",
   "metadata": {
    "vscode": {
     "languageId": "rust"
    }
   },
   "outputs": [],
   "source": [
    ":dep serde = {version = \"1.0.160\", features = [\"derive\"]}\n",
    "extern crate serde;"
   ]
  },
  {
   "cell_type": "code",
   "execution_count": null,
   "id": "9bea4aa6-cc95-43ec-a9d0-bfcd4305a3e1",
   "metadata": {
    "vscode": {
     "languageId": "rust"
    }
   },
   "outputs": [],
   "source": [
    ":dep indexmap = {version = \"1.9.1\", features = [\"serde\"]}\n",
    "extern crate indexmap;"
   ]
  },
  {
   "cell_type": "code",
   "execution_count": null,
   "id": "159345f2-1bcd-4968-aada-4b4de1c29f2f",
   "metadata": {
    "vscode": {
     "languageId": "rust"
    }
   },
   "outputs": [],
   "source": [
    "use indexmap::IndexMap;\n",
    "let mut table_data: Vec<IndexMap<String, String>> = Vec::new();\n",
    "for row in rows {\n",
    "    let zipped_array = head.iter().zip(row.iter()).map(|(a,b)| (a, b)).collect::<Vec<_>>();\n",
    "    let mut item_hash: IndexMap<String, String> = IndexMap::new();\n",
    "    for pair in zipped_array {\n",
    "        if !pair.1.to_string().is_empty() {\n",
    "            item_hash.insert(pair.0.to_string(), pair.1.to_string());\n",
    "        }\n",
    "    }\n",
    "    table_data.push(item_hash);\n",
    "}\n",
    "table_data"
   ]
  },
  {
   "cell_type": "code",
   "execution_count": null,
   "id": "05cd9180-9982-40df-9fa5-690b1eee78ae",
   "metadata": {
    "vscode": {
     "languageId": "rust"
    }
   },
   "outputs": [],
   "source": []
  },
  {
   "cell_type": "markdown",
   "id": "9de1a52a-d3ab-4bdb-b7fd-55d851576217",
   "metadata": {},
   "source": [
    "1.3 Serializing the data"
   ]
  },
  {
   "cell_type": "code",
   "execution_count": null,
   "id": "9cac3252-8768-4a0b-a2d0-26b493285366",
   "metadata": {
    "tags": [],
    "vscode": {
     "languageId": "rust"
    }
   },
   "outputs": [],
   "source": [
    ":dep polars = {version = \"0.28.0\"}\n",
    "extern crate polars;"
   ]
  },
  {
   "cell_type": "code",
   "execution_count": null,
   "id": "a7eba48e-342f-457d-9fae-56ed3b82bcdf",
   "metadata": {
    "vscode": {
     "languageId": "rust"
    }
   },
   "outputs": [],
   "source": [
    ":dep csv = {version = \"1.2.1\"}\n",
    "extern crate csv;"
   ]
  },
  {
   "cell_type": "code",
   "execution_count": null,
   "id": "76a13567-854f-4b0c-961b-6fafd4ffe138",
   "metadata": {
    "vscode": {
     "languageId": "rust"
    }
   },
   "outputs": [],
   "source": [
    ":dep json-event-parser = {version = \"0.1.1\"}\n",
    "extern crate json_event_parser;"
   ]
  },
  {
   "cell_type": "code",
   "execution_count": null,
   "id": "2e54041a-832a-41c2-9458-fdf0a2f31906",
   "metadata": {},
   "outputs": [],
   "source": [
    ":dep selectors = \"0.24.0\"\n",
    "extern crate selectors;"
   ]
  },
  {
   "cell_type": "code",
   "execution_count": null,
   "id": "41cedb7e-ccdd-408c-8451-9129968fc03b",
   "metadata": {
    "vscode": {
     "languageId": "rust"
    }
   },
   "outputs": [],
   "source": [
    "use std::collections::HashMap;\n",
    "use std::collections::BTreeMap;\n",
    "use scraper::Element;\n",
    "use scraper::{Html, Selector};\n",
    "\n",
    "/*\n",
    "The reason why the header elements are not being parsed in order is because the table cells in the HTML are not necessarily arranged in a left-to-right order.\n",
    "\n",
    "When the select method is used to retrieve the head_elements of the table, the order in which the cells are returned is determined by the order in which they appear in the HTML source, which may not correspond to the left-to-right order of the cells in the table.\n",
    "\n",
    "To address this issue, you can modify the code to explicitly specify the order in which the header elements should be added to the head vector, based on their position in the table. \n",
    "*/\n",
    "fn scrape_table_data(html_fragment: &Html, table_selector_string: &str, head_elements_selector: &Selector, row_elements_selector: &Selector, row_element_data_selector: &Selector) -> Vec<BTreeMap<String, String>> {\n",
    "    let table_selector = Selector::parse(table_selector_string).unwrap();\n",
    "    let all_tables = html_fragment.select(&table_selector);\n",
    "    \n",
    "    let mut head: Vec<String> = Vec::new();\n",
    "    let mut rows: Vec<Vec<String>> = Vec::new();\n",
    "\n",
    "    for (_table_index, table) in all_tables.enumerate() {\n",
    "        let head_elements = table.select(&head_elements_selector);\n",
    "        for head_element in head_elements {\n",
    "            let element = head_element.value(); // Get the underlying Element\n",
    "            // Skip the header row\n",
    "            if element.attr(\"class\").unwrap_or(\"\") == \"over_header\" {\n",
    "                continue;\n",
    "            }\n",
    "            let mut element = head_element.text().collect::<Vec<_>>().join(\" \");\n",
    "            element = element.trim().replace(\"\\n\", \" \");\n",
    "            head.push(element);\n",
    "        }\n",
    "        let row_elements = table.select(&row_elements_selector); // skip the first row\n",
    "        for row_element in row_elements {\n",
    "            let mut row: Vec<String> = Vec::new();\n",
    "            for td_element in row_element.select(&row_element_data_selector) {\n",
    "                let mut element = td_element.text().collect::<Vec<_>>().join(\" \");\n",
    "                element = element.trim().replace(\"\\n\", \" \");\n",
    "                row.push(element);\n",
    "            }\n",
    "            rows.push(row);\n",
    "        }\n",
    "    }\n",
    "\n",
    "    let mut table_data: Vec<BTreeMap<String, String>> = Vec::new();\n",
    "    for row in rows {\n",
    "        let zipped_array = head.iter().zip(row.iter()).map(|(a,b)| (a, b)).collect::<Vec<_>>();\n",
    "        let mut item_hash: BTreeMap<String, String> = BTreeMap::new();\n",
    "        for pair in zipped_array {\n",
    "            if !pair.1.to_string().is_empty() {\n",
    "                item_hash.insert(pair.0.to_string(), pair.1.to_string());\n",
    "            }\n",
    "        }\n",
    "        table_data.push(item_hash);\n",
    "    }\n",
    "\n",
    "    table_data\n",
    "}\n"
   ]
  },
  {
   "cell_type": "code",
   "execution_count": null,
   "id": "df576e4e-bc6b-4edf-86ec-eaf5cf23344e",
   "metadata": {
    "vscode": {
     "languageId": "rust"
    }
   },
   "outputs": [],
   "source": [
    "//serialize the table_data into a csv file\n",
    "use polars::prelude::*;\n",
    "use std::fs::File;\n",
    "use serde::Serialize;\n",
    "use indexmap::IndexMap;\n",
    "use csv::{Writer, WriterBuilder};\n",
    "use std::error::Error;\n",
    "use std::collections::HashMap;\n",
    "use std::collections::BTreeMap;\n",
    "use std::io::Write;\n",
    "//use select::document::Document;\n",
    "//use select::predicate::{Predicate, Attr, Name};\n",
    "use json_event_parser::JsonReader\n",
    "\n",
    "let mut tables_data: Vec<(String, Vec<BTreeMap<String, String>>)> = Vec::new();\n",
    "\n",
    "for year in 2010..=2022 {\n",
    "    let url = format!(\"https://www.basketball-reference.com/leagues/NBA_{}.html\", year);\n",
    "    let response = reqwest::blocking::get(&url).expect(\"Could not load url.\");\n",
    "    let raw_html_string = response.text().unwrap();\n",
    "    let html_fragment = Html::parse_fragment(&raw_html_string);\n",
    "    let table_selector_string = \"#advanced-team\";\n",
    "    let head_elements_selector = Selector::parse(\"thead>tr>th\").unwrap();\n",
    "    let row_elements_selector = Selector::parse(\"tbody>tr\").unwrap();\n",
    "    let row_element_data_selector = Selector::parse(\"td,th\").unwrap();\n",
    "    let table_data = scrape_table_data(&html_fragment, &table_selector_string, &head_elements_selector, &row_elements_selector, &row_element_data_selector);\n",
    "    tables_data.push((format!(\"{}\", year), table_data));\n",
    "}\n",
    "\n",
    "// Open a file to write the CSV output to\n",
    "let file = File::create(\"output.csv\")?;\n",
    "\n",
    "// Create a CSV writer using the default configuration\n",
    "let mut csv_writer = WriterBuilder::new().from_writer(file);\n",
    "\n",
    "// Write the header row\n",
    "let headers = tables_data[0].1[0].keys().cloned().collect::<Vec<_>>();\n",
    "csv_writer.write_record(&headers)?;\n",
    "\n",
    "// Write each row of data\n",
    "for (_table_name, rows) in tables_data.iter() {\n",
    "    for row in rows {\n",
    "        let values = headers.iter().map(|h| row.get(h).unwrap()).collect::<Vec<_>>();\n",
    "        csv_writer.write_record(&values)?;\n",
    "    }\n",
    "}\n",
    "\n",
    "// Flush the CSV writer to ensure all data is written to the file\n",
    "csv_writer.flush()?;\n",
    "\n",
    "\n",
    "/*\n",
    "let mut tables_data: IndexMap<String, Vec<HashMap<String, String>>> = IndexMap::new();\n",
    "for year in 2010..=2011 {\n",
    "    let url = format!(\"https://www.basketball-reference.com/leagues/NBA_{}.html\", year);\n",
    "    let response = reqwest::blocking::get(&url).expect(\"Could not load url.\");\n",
    "    let raw_html_string = response.text().unwrap();\n",
    "    let html_fragment = Html::parse_fragment(&raw_html_string);\n",
    "    let table_selector_string = \"#per_game-team\";\n",
    "    let head_elements_selector = Selector::parse(\"thead>tr>th\").unwrap();\n",
    "    let row_elements_selector = Selector::parse(\"tbody>tr\").unwrap();\n",
    "    let row_element_data_selector = Selector::parse(\"td,th\").unwrap();\n",
    "    let table_data = scrape_table_data(&html_fragment, &table_selector_string, &head_elements_selector, &row_elements_selector, &row_element_data_selector);\n",
    "    tables_data.insert(format!(\"{}\", year), table_data);\n",
    "}\n",
    "\n",
    "// Open a file to write the CSV output to\n",
    "let file = File::create(\"output.csv\")?;\n",
    "\n",
    "// Create a CSV writer using the default configuration\n",
    "let mut csv_writer = WriterBuilder::new().from_writer(file);\n",
    "\n",
    "// Write the header row\n",
    "let headers = tables_data.values().next().unwrap()[0].keys();\n",
    "csv_writer.write_record(headers)?;\n",
    "\n",
    "// Write each row of data\n",
    "for (table_name, rows) in tables_data.iter() {\n",
    "    for row in rows {\n",
    "        let values = row.values();\n",
    "        csv_writer.write_record(values)?;\n",
    "    }\n",
    "}\n",
    "\n",
    "//define a struct container for the tables_data\n",
    "#[derive(Serialize)]\n",
    "struct FinalTable {\n",
    "    tables: IndexMap<String, Vec<HashMap<String, String>>>,\n",
    "}\n",
    "let final_table = FinalTable{tables: tables_data};\n",
    "let json = serde_json::to_string_pretty(&final_table).unwrap();\n",
    "\n",
    "let path = \"scraped_raw_data.json\";\n",
    "let mut output = File::create(path).unwrap();\n",
    "let result: Result<(), std::io::Error> = output.write_all(json.as_bytes());\n",
    "\n",
    "match result {\n",
    "    Ok(()) => println!(\"hooray\"),\n",
    "    Err(e) => println!(\"uhhhh\"),\n",
    "}\n",
    "println!(\"{json:#}\");\n",
    "*/\n",
    "\n"
   ]
  },
  {
   "cell_type": "code",
   "execution_count": null,
   "id": "72d84571-b6be-4c48-9c03-b5bed6c7645e",
   "metadata": {
    "vscode": {
     "languageId": "rust"
    }
   },
   "outputs": [],
   "source": [
    "// helper function to turn the data in the csv file into dataframe\n",
    "fn read_csv(file_path: &str) -> PolarsResult<DataFrame> {\n",
    "    CsvReader::from_path(file_path)?.has_header(true).finish()\n",
    "}\n",
    "let df = read_csv(\"output.csv\");\n",
    "df"
   ]
  },
  {
   "cell_type": "markdown",
   "id": "9f3f5a45-dab9-410f-a514-7b53f7ff5730",
   "metadata": {
    "vscode": {
     "languageId": "rust"
    }
   },
   "source": [
    "Using Logistic Regression Model to predict the ELO ratings"
   ]
  },
  {
   "cell_type": "code",
   "execution_count": null,
   "id": "b301b6f7-06ac-48cb-a71a-5f049ddae745",
   "metadata": {},
   "outputs": [],
   "source": [
    ":dep smartcore = {version = \"0.2.0\", features = [\"nalgebra-bindings\", \"datasets\"]}\n",
    "extern crate smartcore;"
   ]
  },
  {
   "cell_type": "code",
   "execution_count": null,
   "id": "9af1a53f-91d6-45b4-b3bf-37f46a03faee",
   "metadata": {},
   "outputs": [],
   "source": [
    ":dep nalgebra = {version = \"0.23.0\", features = [\"serde-serialize\"]}\n",
    "extern crate nalgebra;"
   ]
  },
  {
   "cell_type": "code",
   "execution_count": null,
   "id": "ca590297-f55e-4fb9-bd88-ea0304f660f4",
   "metadata": {},
   "outputs": [],
   "source": [
    ":dep argmin = \"*\"\n",
    "extern crate argmin;"
   ]
  },
  {
   "cell_type": "markdown",
   "id": "7571890f-51ab-4e04-b28a-e4cd29278c4b",
   "metadata": {},
   "source": [
    "First Load the dataset and split it into tests and training sets. "
   ]
  },
  {
   "cell_type": "code",
   "execution_count": null,
   "id": "d8278d64-952b-472b-bd5b-bb8b1a277f97",
   "metadata": {},
   "outputs": [],
   "source": [
    "use std::fs::File;\n",
    "let file = File::open(\"cleaned_dataset.csv\").unwrap();\n",
    "let cerdit: DMatrix<f64> = parse_csv(BufReader::new(file)).unwrap();\n",
    "\n",
    "let x = credit.columns(0, 30)"
   ]
  },
  {
   "cell_type": "code",
   "execution_count": null,
   "id": "ee750a00-0f5b-44fb-a1f1-f6851f3f14c5",
   "metadata": {},
   "outputs": [],
   "source": [
    "//helper function to calculate the ELO ratrings\n",
    "use std::collections::HashMap;\n",
    "use csv::Reader;\n",
    "\n",
    "// ELO constants\n",
    "const K: f64 = 32.0;\n",
    "const BASE_ELO: f64 = 1500.0;\n",
    "\n",
    "// Struct to hold team data\n",
    "struct Team {\n",
    "    elo: f64,\n",
    "    wins: u32,\n",
    "    losses: u32,\n",
    "}\n",
    "\n",
    "// Function to read CSV file and calculate ELO ratings\n",
    "fn calculate_elo(file_path: &str) -> HashMap<String, f64> {\n",
    "    // Open CSV file and create CSV reader\n",
    "    let file = std::fs::File::open(file_path).unwrap();\n",
    "    let mut reader = Reader::from_reader(file);\n",
    "\n",
    "    // Create hash map to store team data\n",
    "    let mut teams: HashMap<String, Team> = HashMap::new();\n",
    "\n",
    "    // Initialize all teams with base ELO rating\n",
    "    for result in reader.records() {\n",
    "        let record = result.unwrap();\n",
    "        let team_name = record.get(0).unwrap().to_string();\n",
    "        let team = Team {\n",
    "            elo: BASE_ELO,\n",
    "            wins: record.get(1).unwrap().parse().unwrap(),\n",
    "            losses: record.get(2).unwrap().parse().unwrap(),\n",
    "        };\n",
    "        teams.insert(team_name, team);\n",
    "    }\n",
    "\n",
    "    // Calculate ELO ratings\n",
    "    for (team_name, team) in teams.iter_mut() {\n",
    "        for (opponent_name, opponent) in teams.iter() {\n",
    "            if team_name == opponent_name {\n",
    "                continue;\n",
    "            }\n",
    "            let expected_score = 1.0 / (1.0 + 10.0f64.powf((opponent.elo - team.elo) / 400.0));\n",
    "            let actual_score = team.wins as f64 / (team.wins + opponent.wins) as f64;\n",
    "            let elo_delta = K * (actual_score - expected_score);\n",
    "            team.elo += elo_delta;\n",
    "        }\n",
    "    }\n",
    "\n",
    "    // Create hash map of team names and ELO ratings\n",
    "    let mut elo_ratings: HashMap<String, f64> = HashMap::new();\n",
    "    for (team_name, team) in teams {\n",
    "        elo_ratings.insert(team_name, team.elo);\n",
    "    }\n",
    "\n",
    "    elo_ratings\n",
    "}"
   ]
  },
  {
   "cell_type": "code",
   "execution_count": null,
   "id": "89fdf6f4-1625-4d35-b5f4-8e3f2a86ab8a",
   "metadata": {},
   "outputs": [],
   "source": []
  }
 ],
 "metadata": {
  "kernelspec": {
   "display_name": "Rust",
   "language": "rust",
   "name": "rust"
  },
  "language_info": {
   "codemirror_mode": "rust",
   "file_extension": ".rs",
   "mimetype": "text/rust",
   "name": "Rust",
   "pygment_lexer": "rust",
   "version": ""
  },
  "toc-autonumbering": true,
  "toc-showcode": true,
  "toc-showmarkdowntxt": false
 },
 "nbformat": 4,
 "nbformat_minor": 5
}
